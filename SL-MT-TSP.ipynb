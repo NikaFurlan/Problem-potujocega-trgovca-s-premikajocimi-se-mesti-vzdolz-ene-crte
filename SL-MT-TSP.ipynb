{
 "cells": [
  {
   "cell_type": "code",
   "execution_count": 4,
   "metadata": {},
   "outputs": [],
   "source": [
    "class Cilj:\n",
    "    def __init__(self, d, r, p):\n",
    "        self.d = d\n",
    "        self.r = r\n",
    "        self.p = p\n",
    "\n",
    "    def pozicija(self, t, v):\n",
    "        return self.p + (t - self.r) * v * self.d\n",
    "    \n",
    "    def __hash__(self):\n",
    "        return hash((self.d, self.r, self.p))\n",
    "    \n",
    "    def __eq__(self, other):\n",
    "        return (self.d, self.r, self.p) == (other.d, other.r, other.p)\n",
    "    \n",
    "    def __repr__(self):\n",
    "        return f\"Cilj({self.d}, {self.r}, {self.p})\""
   ]
  },
  {
   "cell_type": "code",
   "execution_count": 18,
   "metadata": {},
   "outputs": [],
   "source": [
    "class Ureditev:\n",
    "    def __init__(self, seznam, kljuc):\n",
    "        self.seznam = sorted(seznam, key=kljuc)\n",
    "        self.indeksi = {c: i for i, c in enumerate(self.seznam)}\n",
    "\n",
    "    def __len__(self):\n",
    "        return len(self.seznam)\n",
    "        \n",
    "    def __getitem__(self, index):\n",
    "        if index < 0:\n",
    "            return None\n",
    "        return self.seznam[index]\n",
    "    \n",
    "    def indeks(self, cilj):\n",
    "        return self.indeksi[cilj]\n",
    "    \n",
    "class ObratnaUreditev:\n",
    "    def __init__(self, ureditev):\n",
    "        self.ureditev = ureditev\n",
    "        \n",
    "    def __len__(self):\n",
    "        return len(self.ureditev)\n",
    "        \n",
    "    def __getitem__(self, index):\n",
    "        if index < 0:\n",
    "            return None\n",
    "        return self.ureditev.seznam[-index-1]\n",
    "    \n",
    "    def indeks(self, cilj):\n",
    "        return len(self) - self.ureditev.indeks(cilj) - 1"
   ]
  },
  {
   "cell_type": "code",
   "execution_count": 19,
   "metadata": {},
   "outputs": [],
   "source": [
    "cilji = [Cilj(*p) for p in zip([1, 1, -1, -1, -1, 1, -1], [0, 5, 13, 15, 6, 8, 18], [2, 5, -3, 4, 1, -2, -7])]"
   ]
  },
  {
   "cell_type": "code",
   "execution_count": 20,
   "metadata": {},
   "outputs": [],
   "source": [
    "v = 0.3\n",
    "IPO = Ureditev(cilji, lambda c: c.pozicija(0, v))\n",
    "TO = Ureditev(cilji, lambda c: (c.d, c.pozicija(0, v)))\n",
    "IPOc = ObratnaUreditev(IPO)\n",
    "TOc = ObratnaUreditev(TO)"
   ]
  },
  {
   "cell_type": "code",
   "execution_count": 15,
   "metadata": {},
   "outputs": [
    {
     "data": {
      "text/plain": [
       "[3, 1, 4, 0, 2, 6, 5]"
      ]
     },
     "execution_count": 15,
     "metadata": {},
     "output_type": "execute_result"
    }
   ],
   "source": [
    "[IPOc.indeks(c) for c in cilji]"
   ]
  },
  {
   "cell_type": "code",
   "execution_count": 12,
   "metadata": {},
   "outputs": [
    {
     "data": {
      "text/plain": [
       "[Cilj(1, 0, 2),\n",
       " Cilj(1, 5, 5),\n",
       " Cilj(-1, 13, -3),\n",
       " Cilj(-1, 15, 4),\n",
       " Cilj(-1, 6, 1),\n",
       " Cilj(1, 8, -2),\n",
       " Cilj(-1, 18, -7)]"
      ]
     },
     "execution_count": 12,
     "metadata": {},
     "output_type": "execute_result"
    }
   ],
   "source": [
    "cilji"
   ]
  },
  {
   "cell_type": "code",
   "execution_count": 21,
   "metadata": {},
   "outputs": [
    {
     "data": {
      "text/plain": [
       "Cilj(-1, 6, 1)"
      ]
     },
     "execution_count": 21,
     "metadata": {},
     "output_type": "execute_result"
    }
   ],
   "source": [
    "IPOc[2]"
   ]
  },
  {
   "cell_type": "code",
   "execution_count": null,
   "metadata": {},
   "outputs": [],
   "source": [
    "class SLMTTSP:\n",
    "    def __init__(self, cilji, v):\n",
    "        IPO = Ureditev(cilji, lambda c: c.pozicija(0, v))\n",
    "        TO = Ureditev(cilji, lambda c: (c.d, c.pozicija(0, v)))\n",
    "        IPOc = ObratnaUreditev(IPO)\n",
    "        TOc = ObratnaUreditev(TO)\n",
    "        self.v = v\n",
    "        self.cilji = [None] + cilji\n",
    "        self.ureditve = [IPO, IPOc, TO, TOc]\n",
    "        self.F = {}\n",
    "\n",
    "    def g(self, t, j, i):\n",
    "        posi = i.pozicija(t, self.v)\n",
    "        posj = j.pozicija(t, self.v)\n",
    "        razlika = posi - posj\n",
    "        delta = 1 if razlika > 0 else -1\n",
    "        tt = t + razlika / (delta - self.v * i.d)\n",
    "        if tt <= i.r:\n",
    "            return (tt, [(t, posj), (tt, posi)])\n",
    "        else:\n",
    "            return (i.r, [(t, posj), (\"čas, ko dosežemo i.p\", i.p), (i.r, i.p)])\n",
    "        \n",
    "    def predhodnik(self, l, C, i):\n",
    "        ...\n",
    "\n",
    "    def predhodno_stanje(self, C, i):\n",
    "        ...\n",
    "        \n",
    "    def f(self, C, i):\n",
    "        if (C, i) not in F:\n",
    "            if C == (-1, -1, -1, -1):\n",
    "                return 0\n",
    "            kandidati = []\n",
    "            CC = self.predhodno_stanje(C, i)\n",
    "            for l in range(4):\n",
    "                j = self.predhodnik(l, C, i)\n",
    "                t, _, _ = self.f(CC, j)\n",
    "                kandidati.append((self.g(t, j, i), l, j))\n",
    "            self.F[C, i] = min(kandidati)\n",
    "        return self.F[C, i]\n",
    "    \n",
    "    def resi(self):\n",
    "        n = len(self.cilji)\n",
    "        for a in range(-1, n+1):\n",
    "            for b in range(-1, n+1):\n",
    "                for c in range(-1, n+1):\n",
    "                    for d in range(-1, n+1):\n",
    "                        for i in cilji:\n",
    "                            self.f((a, b, c, d), i)\n",
    "        return min(self.f((n, n, n, n), i) for i in cilji)\n",
    "    \n",
    "    def rekonstruiraj_resitev(self):\n",
    "        ..."
   ]
  }
 ],
 "metadata": {
  "kernelspec": {
   "display_name": "Python 3",
   "language": "python",
   "name": "python3"
  },
  "language_info": {
   "codemirror_mode": {
    "name": "ipython",
    "version": 3
   },
   "file_extension": ".py",
   "mimetype": "text/x-python",
   "name": "python",
   "nbconvert_exporter": "python",
   "pygments_lexer": "ipython3",
   "version": "3.8.10"
  }
 },
 "nbformat": 4,
 "nbformat_minor": 4
}
